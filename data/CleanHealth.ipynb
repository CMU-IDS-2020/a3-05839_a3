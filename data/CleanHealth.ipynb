{
 "cells": [
  {
   "cell_type": "code",
   "execution_count": 1,
   "metadata": {},
   "outputs": [],
   "source": [
    "import altair as alt\n",
    "import numpy as np\n",
    "import pandas as pd"
   ]
  },
  {
   "cell_type": "code",
   "execution_count": 2,
   "metadata": {},
   "outputs": [],
   "source": [
    "# preprocess data (this data has Age population percentage 10-14, male, but no same age range for female.. )\n",
    "health_data_url = \"https://raw.githubusercontent.com/ZeningQu/World-Bank-Data-by-Indicators/master/health/health.csv\"\n",
    "# downloaded from https://data.worldbank.org/indicator/SP.POP.0014.TO.ZS?view=chart and convert to readable csv\n",
    "population_distribution_file = \"API_SP.POP.0014.TO.ZS_DS2_en_csv_v2_1500178/API_SP.POP.0014.TO.ZS_DS2_en_csv_v2_1500178 (copy).csv\"\n",
    "\n",
    "# regions_url = \"https://raw.githubusercontent.com/ZeningQu/World-Bank-Data-by-Indicators/master/health/Metadata_Country_API_8_DS2_en_csv_v2_10138079.csv\""
   ]
  },
  {
   "cell_type": "code",
   "execution_count": 3,
   "metadata": {},
   "outputs": [],
   "source": [
    "def load_data(source):\n",
    "    data = pd.read_csv(source, header=0, skipinitialspace=True)\n",
    "    return data"
   ]
  },
  {
   "cell_type": "code",
   "execution_count": 4,
   "metadata": {},
   "outputs": [
    {
     "name": "stdout",
     "output_type": "stream",
     "text": [
      "['Albania' 'Azerbaijan' 'Burkina Faso' 'Bulgaria' 'Belarus'\n",
      " 'Brunei Darussalam' 'Central African Republic' 'Chile' 'China' 'Cyprus'\n",
      " 'Dominica' 'Dominican Republic' 'Algeria' 'Estonia' 'Fiji'\n",
      " 'United Kingdom' 'Ghana' 'Gibraltar' 'Gambia, The' 'Equatorial Guinea'\n",
      " 'Guyana' 'Haiti' 'Isle of Man' 'India' 'Iran, Islamic Rep.' 'Iraq'\n",
      " 'Israel' 'Jamaica' 'Cambodia' 'Kiribati' 'Kuwait' 'Libya' 'Morocco'\n",
      " 'Maldives' 'Mexico' 'Mali' 'Malta' 'Myanmar' 'Mauritania' 'Namibia'\n",
      " 'New Caledonia' 'Netherlands' 'Nauru' 'Panama' 'Philippines'\n",
      " 'Korea, Dem. People’s Rep.' 'Portugal' 'Qatar' 'Saudi Arabia' 'Senegal'\n",
      " 'South Sudan' 'Slovenia' 'Togo' 'Tonga' 'Kosovo' 'Yemen, Rep.' 'Liberia'\n",
      " 'Mozambique' 'Malawi' 'Poland' 'Thailand' 'Zimbabwe' 'Afghanistan'\n",
      " 'Angola' 'Andorra' 'Antigua and Barbuda' 'Belgium' 'Belize' 'Bermuda'\n",
      " 'Botswana' 'Channel Islands' \"Cote d'Ivoire\" 'Curacao' 'Germany'\n",
      " 'Djibouti' 'Denmark' 'Eritrea' 'Faroe Islands' 'Gabon' 'Grenada' 'Jordan'\n",
      " 'Lao PDR' 'Lebanon' 'St. Lucia' 'Liechtenstein' 'Malaysia' 'Nepal'\n",
      " 'New Zealand' 'Paraguay' 'French Polynesia' 'Romania' 'Rwanda'\n",
      " 'Singapore' 'Sao Tome and Principe' 'Sweden' 'Turks and Caicos Islands'\n",
      " 'Trinidad and Tobago' 'Turkey' 'Vanuatu' 'Zambia' 'Eswatini'\n",
      " 'Sint Maarten (Dutch part)' 'Aruba' 'Argentina' 'Austria'\n",
      " 'Bosnia and Herzegovina' 'Brazil' 'Congo, Rep.' 'Colombia' 'Cabo Verde'\n",
      " 'Cayman Islands' 'Ecuador' 'France' 'Kenya' 'Sri Lanka' 'Macedonia, FYR'\n",
      " 'Mongolia' 'Mauritius' 'Nicaragua' 'Solomon Islands' 'San Marino'\n",
      " 'British Virgin Islands' 'Kazakhstan' 'Syrian Arab Republic' 'Samoa'\n",
      " 'American Samoa' 'Benin' 'Bahamas, The' 'Bolivia' 'Barbados'\n",
      " 'Switzerland' 'Cameroon' 'Congo, Dem. Rep.' 'Ethiopia' 'Guatemala'\n",
      " 'Honduras' 'Hungary' 'Iceland' 'Italy' 'Japan' 'Korea, Rep.' 'Luxembourg'\n",
      " 'Marshall Islands' 'Serbia' 'Seychelles' 'United States'\n",
      " 'St. Vincent and the Grenadines' 'Vietnam' 'Bahrain' 'Bhutan' 'Comoros'\n",
      " 'Euro area' 'Spain' 'Finland' 'Hong Kong SAR, China' 'Indonesia'\n",
      " 'Ireland' 'Kyrgyz Republic' 'Moldova' 'Northern Mariana Islands' 'Niger'\n",
      " 'Sierra Leone' 'Turkmenistan' 'Tuvalu' 'Venezuela, RB'\n",
      " 'United Arab Emirates' 'Australia' 'Canada' 'Costa Rica' 'Madagascar'\n",
      " 'Oman' 'Pakistan' 'Peru' 'Puerto Rico' 'Chad' 'Tajikistan' 'Tunisia'\n",
      " 'Uganda' 'Uzbekistan' 'South Africa' 'Cuba' 'Burundi' 'Egypt, Arab Rep.'\n",
      " 'Micronesia, Fed. Sts.' 'Greece' 'Lesotho' 'Macao SAR, China'\n",
      " 'West Bank and Gaza' 'Sudan' 'Suriname' 'Armenia' 'Georgia'\n",
      " 'Guinea-Bissau' 'Croatia' 'Somalia' 'Slovak Republic' 'Tanzania'\n",
      " 'Ukraine' 'Uruguay' 'St. Kitts and Nevis' 'Papua New Guinea'\n",
      " 'Russian Federation' 'Bangladesh' 'Latvia' 'Monaco' 'Greenland' 'Guam'\n",
      " 'Lithuania' 'Czech Republic' 'St. Martin (French part)' 'Palau'\n",
      " 'El Salvador' 'Virgin Islands (U.S.)' 'Guinea' 'Montenegro' 'Nigeria'\n",
      " 'Norway' 'Timor-Leste']\n"
     ]
    }
   ],
   "source": [
    "health_df = load_data(health_data_url)\n",
    "\n",
    "# remove regions, only keep countries\n",
    "names_exclude = ['Sub-Saharan Africa', 'IDA', 'income', 'Fragile and conflict affected situations', 'IBRD',\n",
    "                 'poor countries', 'demographic', 'developed countries: UN classification', 'Europe', 'Asia',\n",
    "                 'Middle East', 'Pacific', 'North America', 'small states', 'members', 'World', 'Small states',  'Latin America & Caribbean']\n",
    "for name in names_exclude:\n",
    "    health_df = health_df[~health_df['Country Name'].str.contains(name)]\n",
    "print(health_df['Country Name'].unique())    "
   ]
  },
  {
   "cell_type": "code",
   "execution_count": 5,
   "metadata": {},
   "outputs": [],
   "source": [
    "# drop unused columns\n",
    "health_df = health_df.drop(columns=[\"Country Code\", \"Population growth (annual %)\", 'Population ages 15-64 (% of total)', 'Population ages 15-64, female',\n",
    "       'Population ages 15-64, female (% of total)',\n",
    "       'Population ages 15-64, male',\n",
    "       'Population ages 15-64, male (% of total)', 'Population ages 65 and above (% of total)',\n",
    "       'Population ages 65 and above, female',\n",
    "       'Population ages 65 and above, female (% of total)',\n",
    "       'Population ages 65 and above, male',\n",
    "       'Population ages 65 and above, male (% of total)',\n",
    "       'Population ages 10-14, male (% of male population)',\n",
    "       'Population ages 65 and above, total', \"Sex ratio at birth (male births per female births)\"])"
   ]
  },
  {
   "cell_type": "code",
   "execution_count": 6,
   "metadata": {},
   "outputs": [],
   "source": [
    "missing_df = load_data(population_distribution_file)\n",
    "# add missing column to health data\n",
    "missing_col = missing_df.head(1)['Indicator Name'].item()\n",
    "health_df[missing_col] = np.nan"
   ]
  },
  {
   "cell_type": "code",
   "execution_count": 7,
   "metadata": {},
   "outputs": [],
   "source": [
    "years = list(missing_df.columns)[4:-1]\n",
    "years = [int(i) for i in years] \n",
    "for index, row in missing_df.iterrows():\n",
    "    country_name = row['Country Name']\n",
    "    matching_rows = health_df.loc[(health_df['Country Name'] == country_name) & (health_df['Year'].isin(years))]\n",
    "    for sub_idx, sub_row in matching_rows.iterrows():\n",
    "        health_df.at[sub_idx, missing_col] = row[str(sub_row['Year'])]"
   ]
  },
  {
   "cell_type": "code",
   "execution_count": 8,
   "metadata": {},
   "outputs": [
    {
     "name": "stdout",
     "output_type": "stream",
     "text": [
      "12607\n",
      "11244\n"
     ]
    }
   ],
   "source": [
    "# clean some all-zeros\n",
    "print(len(health_df))\n",
    "force_non_zero_cols = ['Population ages 15-19, female (% of female population)',\n",
    "       'Population ages 15-19, male (% of male population)',\n",
    "       'Population ages 20-24, female (% of female population)',\n",
    "       'Population ages 20-24, male (% of male population)',\n",
    "       'Population ages 25-29, female (% of female population)',\n",
    "       'Population ages 25-29, male (% of male population)',\n",
    "       'Population ages 30-34, female (% of female population)',\n",
    "       'Population ages 30-34, male (% of male population)',\n",
    "       'Population ages 35-39, female (% of female population)',\n",
    "       'Population ages 35-39, male (% of male population)',\n",
    "       'Population ages 40-44, female (% of female population)',\n",
    "       'Population ages 40-44, male (% of male population)',\n",
    "       'Population ages 45-49, female (% of female population)',\n",
    "       'Population ages 45-49, male (% of male population)',\n",
    "       'Population ages 50-54, female (% of female population)',\n",
    "       'Population ages 50-54, male (% of male population)',\n",
    "       'Population ages 55-59, female (% of female population)',\n",
    "       'Population ages 55-59, male (% of male population)',\n",
    "       'Population ages 60-64, female (% of female population)',\n",
    "       'Population ages 60-64, male (% of male population)',\n",
    "       'Population ages 65-69, female (% of female population)',\n",
    "       'Population ages 65-69, male (% of male population)',\n",
    "       'Population ages 70-74, female (% of female population)',\n",
    "       'Population ages 70-74, male (% of male population)',\n",
    "       'Population ages 75-79, female (% of female population)',\n",
    "       'Population ages 75-79, male (% of male population)',\n",
    "       'Population ages 80 and above, female (% of female population)',\n",
    "       'Population ages 80 and above, male (% of male population)']\n",
    "for col in force_non_zero_cols:\n",
    "    health_df = health_df[health_df[col] != 0.0]\n",
    "print(len(health_df))"
   ]
  },
  {
   "cell_type": "code",
   "execution_count": 9,
   "metadata": {},
   "outputs": [],
   "source": [
    "# calculate % total for these ranges\n",
    "age_ranges = ['15-19', '20-24', '25-29', '30-34', '35-39', '40-44', '45-49', '50-54', '55-59', '60-64', '65-69', '70-74', '75-79', '80 and above']\n",
    "for r in age_ranges:\n",
    "    health_df['Population ages {} (% of total population)'.format(r)] = np.nan\n",
    "\n",
    "for idx, row in health_df.iterrows():\n",
    "    male = row['Population, male']\n",
    "    female = row['Population, female']\n",
    "    total = row['Population, total']\n",
    "    if total == 0 or male == 0 or female == 0:\n",
    "        continue\n",
    "    for r in age_ranges:\n",
    "        male_frac = row['Population ages {}, male (% of male population)'.format(r)]\n",
    "        female_frac = row['Population ages {}, female (% of female population)'.format(r)]\n",
    "        total_sub = male_frac * male + female_frac * female\n",
    "        total_frac = (1.0 *total_sub) / total\n",
    "        health_df.at[idx, 'Population ages {} (% of total population)'.format(r)] = total_frac"
   ]
  },
  {
   "cell_type": "code",
   "execution_count": 10,
   "metadata": {},
   "outputs": [],
   "source": [
    "health_df.to_csv(\"health.csv\", index=False)"
   ]
  },
  {
   "cell_type": "code",
   "execution_count": null,
   "metadata": {},
   "outputs": [],
   "source": []
  }
 ],
 "metadata": {
  "kernelspec": {
   "display_name": "Python 3",
   "language": "python",
   "name": "python3"
  },
  "language_info": {
   "codemirror_mode": {
    "name": "ipython",
    "version": 3
   },
   "file_extension": ".py",
   "mimetype": "text/x-python",
   "name": "python",
   "nbconvert_exporter": "python",
   "pygments_lexer": "ipython3",
   "version": "3.6.9"
  }
 },
 "nbformat": 4,
 "nbformat_minor": 4
}
