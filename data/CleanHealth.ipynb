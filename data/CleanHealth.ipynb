{
 "cells": [
  {
   "cell_type": "code",
   "execution_count": 1,
   "metadata": {},
   "outputs": [],
   "source": [
    "import altair as alt\n",
    "import numpy as np\n",
    "import pandas as pd"
   ]
  },
  {
   "cell_type": "code",
   "execution_count": 16,
   "metadata": {},
   "outputs": [],
   "source": [
    "# preprocess data (this data has Age population percentage 10-14, male, but no same age range for female.. )\n",
    "health_data_url = \"https://raw.githubusercontent.com/ZeningQu/World-Bank-Data-by-Indicators/master/health/health.csv\"\n",
    "# downloaded from https://data.worldbank.org/indicator/SP.POP.0014.TO.ZS?view=chart and convert to readable csv\n",
    "population_distribution_file = \"API_SP.POP.0014.TO.ZS_DS2_en_csv_v2_1500178/API_SP.POP.0014.TO.ZS_DS2_en_csv_v2_1500178 (copy).csv\"\n",
    "\n",
    "# regions_url = \"https://raw.githubusercontent.com/ZeningQu/World-Bank-Data-by-Indicators/master/health/Metadata_Country_API_8_DS2_en_csv_v2_10138079.csv\""
   ]
  },
  {
   "cell_type": "code",
   "execution_count": 17,
   "metadata": {},
   "outputs": [],
   "source": [
    "def load_data(source):\n",
    "    data = pd.read_csv(source, header=0, skipinitialspace=True)\n",
    "    return data"
   ]
  },
  {
   "cell_type": "code",
   "execution_count": 18,
   "metadata": {},
   "outputs": [],
   "source": [
    "health_df = load_data(health_data_url)"
   ]
  },
  {
   "cell_type": "code",
   "execution_count": 19,
   "metadata": {},
   "outputs": [
    {
     "name": "stdout",
     "output_type": "stream",
     "text": [
      "952\n"
     ]
    }
   ],
   "source": [
    "# Not sure how this happens, but there are some rows with sum of age_intervals frac by gender is larger than hundred percent\n",
    "# weird indeed considering the age range 0-14 is not even included\n",
    "age_ranges = ['15-19', '20-24', '25-29', '30-34', '35-39', '40-44', '45-49', '50-54', '55-59', '60-64', '65-69', '70-74', '75-79', '80 and above']\n",
    "drop_cols = []\n",
    "for idx, row in health_df.iterrows():\n",
    "    male_sum = 0\n",
    "    for f in age_ranges:\n",
    "        male_sum += row['Population ages {}, male (% of male population)'.format(f)]\n",
    "    if male_sum > 100:\n",
    "        drop_cols.append(idx)\n",
    "        continue\n",
    "    female_sum = 0\n",
    "    for f in age_ranges:\n",
    "        female_sum += row['Population ages {}, female (% of female population)'.format(f)]\n",
    "    if female_sum > 100:\n",
    "        drop_cols.append(idx)\n",
    "print(len(drop_cols))        \n",
    "health_df = health_df.drop(health_df.index[drop_cols]) "
   ]
  },
  {
   "cell_type": "code",
   "execution_count": 20,
   "metadata": {},
   "outputs": [],
   "source": [
    "\n",
    "# remove regions, only keep countries\n",
    "names_exclude = ['Sub-Saharan Africa', 'IDA', 'income', 'Fragile and conflict affected situations', 'IBRD',\n",
    "                 'poor countries', 'demographic', 'developed countries: UN classification', 'Europe', 'Asia',\n",
    "                 'Middle East', 'Pacific', 'North America', 'small states', 'members', 'World', 'Small states',  'Latin America & Caribbean']\n",
    "for name in names_exclude:\n",
    "    health_df = health_df[~health_df['Country Name'].str.contains(name)]\n",
    "#print(health_df['Country Name'].unique())    "
   ]
  },
  {
   "cell_type": "code",
   "execution_count": 21,
   "metadata": {},
   "outputs": [],
   "source": [
    "# drop unused columns\n",
    "health_df = health_df.drop(columns=[\"Country Code\", \"Population growth (annual %)\", 'Population ages 15-64 (% of total)', 'Population ages 15-64, female',\n",
    "       'Population ages 15-64, female (% of total)',\n",
    "       'Population ages 15-64, male',\n",
    "       'Population ages 15-64, male (% of total)', 'Population ages 65 and above (% of total)',\n",
    "       'Population ages 65 and above, female',\n",
    "       'Population ages 65 and above, female (% of total)',\n",
    "       'Population ages 65 and above, male',\n",
    "       'Population ages 65 and above, male (% of total)',\n",
    "       'Population ages 10-14, male (% of male population)',\n",
    "       'Population ages 65 and above, total', \"Sex ratio at birth (male births per female births)\"])"
   ]
  },
  {
   "cell_type": "code",
   "execution_count": 22,
   "metadata": {},
   "outputs": [],
   "source": [
    "missing_df = load_data(population_distribution_file)\n",
    "# add missing column to health data\n",
    "missing_col = missing_df.head(1)['Indicator Name'].item()\n",
    "health_df[missing_col] = np.nan"
   ]
  },
  {
   "cell_type": "code",
   "execution_count": 23,
   "metadata": {},
   "outputs": [],
   "source": [
    "years = list(missing_df.columns)[4:-1]\n",
    "years = [int(i) for i in years] \n",
    "for index, row in missing_df.iterrows():\n",
    "    country_name = row['Country Name']\n",
    "    matching_rows = health_df.loc[(health_df['Country Name'] == country_name) & (health_df['Year'].isin(years))]\n",
    "    for sub_idx, sub_row in matching_rows.iterrows():\n",
    "        health_df.at[sub_idx, missing_col] = row[str(sub_row['Year'])]"
   ]
  },
  {
   "cell_type": "code",
   "execution_count": 24,
   "metadata": {},
   "outputs": [
    {
     "name": "stdout",
     "output_type": "stream",
     "text": [
      "11835\n",
      "10472\n"
     ]
    }
   ],
   "source": [
    "# clean some all-zeros\n",
    "print(len(health_df))\n",
    "force_non_zero_cols = ['Population ages 15-19, female (% of female population)',\n",
    "       'Population ages 15-19, male (% of male population)',\n",
    "       'Population ages 20-24, female (% of female population)',\n",
    "       'Population ages 20-24, male (% of male population)',\n",
    "       'Population ages 25-29, female (% of female population)',\n",
    "       'Population ages 25-29, male (% of male population)',\n",
    "       'Population ages 30-34, female (% of female population)',\n",
    "       'Population ages 30-34, male (% of male population)',\n",
    "       'Population ages 35-39, female (% of female population)',\n",
    "       'Population ages 35-39, male (% of male population)',\n",
    "       'Population ages 40-44, female (% of female population)',\n",
    "       'Population ages 40-44, male (% of male population)',\n",
    "       'Population ages 45-49, female (% of female population)',\n",
    "       'Population ages 45-49, male (% of male population)',\n",
    "       'Population ages 50-54, female (% of female population)',\n",
    "       'Population ages 50-54, male (% of male population)',\n",
    "       'Population ages 55-59, female (% of female population)',\n",
    "       'Population ages 55-59, male (% of male population)',\n",
    "       'Population ages 60-64, female (% of female population)',\n",
    "       'Population ages 60-64, male (% of male population)',\n",
    "       'Population ages 65-69, female (% of female population)',\n",
    "       'Population ages 65-69, male (% of male population)',\n",
    "       'Population ages 70-74, female (% of female population)',\n",
    "       'Population ages 70-74, male (% of male population)',\n",
    "       'Population ages 75-79, female (% of female population)',\n",
    "       'Population ages 75-79, male (% of male population)',\n",
    "       'Population ages 80 and above, female (% of female population)',\n",
    "       'Population ages 80 and above, male (% of male population)']\n",
    "for col in force_non_zero_cols:\n",
    "    health_df = health_df[health_df[col] != 0.0]\n",
    "print(len(health_df))"
   ]
  },
  {
   "cell_type": "code",
   "execution_count": 25,
   "metadata": {},
   "outputs": [],
   "source": [
    "# calculate % total for these ranges\n",
    "for r in age_ranges:\n",
    "    health_df['Population ages {} (% of total population)'.format(r)] = np.nan\n",
    "\n",
    "for idx, row in health_df.iterrows():\n",
    "    male = row['Population, male']\n",
    "    female = row['Population, female']\n",
    "    total = row['Population, total']\n",
    "    if total == 0 or male == 0 or female == 0:\n",
    "        continue\n",
    "    for r in age_ranges:\n",
    "        male_frac = row['Population ages {}, male (% of male population)'.format(r)]\n",
    "        female_frac = row['Population ages {}, female (% of female population)'.format(r)]\n",
    "        total_sub = (male_frac / 100.0 )* male + (female_frac / 100.0) * female\n",
    "        total_frac = ((1.0 *total_sub) / total) * 100.0\n",
    "        health_df.at[idx, 'Population ages {} (% of total population)'.format(r)] = total_frac"
   ]
  },
  {
   "cell_type": "code",
   "execution_count": 26,
   "metadata": {},
   "outputs": [],
   "source": [
    "health_df.to_csv(\"health.csv\", index=False)"
   ]
  },
  {
   "cell_type": "code",
   "execution_count": 13,
   "metadata": {},
   "outputs": [
    {
     "data": {
      "text/plain": [
       "Index(['Country Name', 'Year',\n",
       "       'Age dependency ratio (% of working-age population)',\n",
       "       'Age dependency ratio, old (% of working-age population)',\n",
       "       'Age dependency ratio, young (% of working-age population)',\n",
       "       'Population ages 15-19, female (% of female population)',\n",
       "       'Population ages 15-19, male (% of male population)',\n",
       "       'Population ages 20-24, female (% of female population)',\n",
       "       'Population ages 20-24, male (% of male population)',\n",
       "       'Population ages 25-29, female (% of female population)',\n",
       "       'Population ages 25-29, male (% of male population)',\n",
       "       'Population ages 30-34, female (% of female population)',\n",
       "       'Population ages 30-34, male (% of male population)',\n",
       "       'Population ages 35-39, female (% of female population)',\n",
       "       'Population ages 35-39, male (% of male population)',\n",
       "       'Population ages 40-44, female (% of female population)',\n",
       "       'Population ages 40-44, male (% of male population)',\n",
       "       'Population ages 45-49, female (% of female population)',\n",
       "       'Population ages 45-49, male (% of male population)',\n",
       "       'Population ages 50-54, female (% of female population)',\n",
       "       'Population ages 50-54, male (% of male population)',\n",
       "       'Population ages 55-59, female (% of female population)',\n",
       "       'Population ages 55-59, male (% of male population)',\n",
       "       'Population ages 60-64, female (% of female population)',\n",
       "       'Population ages 60-64, male (% of male population)',\n",
       "       'Population ages 65-69, female (% of female population)',\n",
       "       'Population ages 65-69, male (% of male population)',\n",
       "       'Population ages 70-74, female (% of female population)',\n",
       "       'Population ages 70-74, male (% of male population)',\n",
       "       'Population ages 75-79, female (% of female population)',\n",
       "       'Population ages 75-79, male (% of male population)',\n",
       "       'Population ages 80 and above, female (% of female population)',\n",
       "       'Population ages 80 and above, male (% of male population)',\n",
       "       'Population, female', 'Population, female (% of total)',\n",
       "       'Population, male', 'Population, male (% of total)',\n",
       "       'Population, total', 'Population ages 0-14 (% of total population)',\n",
       "       'Population ages 15-19 (% of total population)',\n",
       "       'Population ages 20-24 (% of total population)',\n",
       "       'Population ages 25-29 (% of total population)',\n",
       "       'Population ages 30-34 (% of total population)',\n",
       "       'Population ages 35-39 (% of total population)',\n",
       "       'Population ages 40-44 (% of total population)',\n",
       "       'Population ages 45-49 (% of total population)',\n",
       "       'Population ages 50-54 (% of total population)',\n",
       "       'Population ages 55-59 (% of total population)',\n",
       "       'Population ages 60-64 (% of total population)',\n",
       "       'Population ages 65-69 (% of total population)',\n",
       "       'Population ages 70-74 (% of total population)',\n",
       "       'Population ages 75-79 (% of total population)',\n",
       "       'Population ages 80 and above (% of total population)'],\n",
       "      dtype='object')"
      ]
     },
     "execution_count": 13,
     "metadata": {},
     "output_type": "execute_result"
    }
   ],
   "source": [
    "health_df.columns"
   ]
  },
  {
   "cell_type": "code",
   "execution_count": 29,
   "metadata": {},
   "outputs": [
    {
     "name": "stdout",
     "output_type": "stream",
     "text": [
      "['15-19', '20-24', '25-29', '30-34', '35-39', '40-44', '45-49', '50-54', '55-59', '60-64', '65-69', '70-74', '75-79', '80 and above', '0-14']\n",
      "147.80243663068777\n",
      "Yemen, Rep. 1990 93.55580227941822 98.85137001847137\n",
      "94.6965603371722\n",
      "Timor-Leste 2017 56.20709508162854 56.587274967164014\n",
      "94.48218570343502\n",
      "Timor-Leste 2000 49.48496989907535 49.740102841526735\n",
      "94.70910329471678\n",
      "Timor-Leste 2002 49.64026166668446 49.97441208189014\n",
      "149.08339647348132\n",
      "Samoa 1970 96.74456856966633 99.59980061240472\n",
      "94.96389531564468\n",
      "Syrian Arab Republic 2015 61.416502879574985 62.41173090006318\n",
      "94.99983628687147\n",
      "Syrian Arab Republic 2016 62.12686915491739 63.15603114390759\n",
      "94.45929225845154\n",
      "Timor-Leste 2001 49.47537231998098 49.777186640292804\n"
     ]
    }
   ],
   "source": [
    "age_ranges_cp = age_ranges.copy()\n",
    "age_ranges_cp.append('0-14')\n",
    "print(age_ranges_cp)\n",
    "for idx, row in health_df.iterrows():\n",
    "    sum = 0\n",
    "    for f in age_ranges_cp:\n",
    "        sum += health_df.at[idx, 'Population ages {} (% of total population)'.format(f)]\n",
    "    if sum < 95 or sum > 105:\n",
    "        print(sum)\n",
    "        male_sum = 0\n",
    "        for f in age_ranges:\n",
    "            male_sum += row['Population ages {}, male (% of male population)'.format(f)]\n",
    "        female_sum = 0\n",
    "        for f in age_ranges:\n",
    "            female_sum += row['Population ages {}, female (% of female population)'.format(f)]    \n",
    "        print(\"{} {} {} {}\".format(row['Country Name'], row['Year'], male_sum, female_sum))    "
   ]
  },
  {
   "cell_type": "code",
   "execution_count": null,
   "metadata": {},
   "outputs": [],
   "source": []
  }
 ],
 "metadata": {
  "kernelspec": {
   "display_name": "Python 3",
   "language": "python",
   "name": "python3"
  },
  "language_info": {
   "codemirror_mode": {
    "name": "ipython",
    "version": 3
   },
   "file_extension": ".py",
   "mimetype": "text/x-python",
   "name": "python",
   "nbconvert_exporter": "python",
   "pygments_lexer": "ipython3",
   "version": "3.6.9"
  }
 },
 "nbformat": 4,
 "nbformat_minor": 4
}
